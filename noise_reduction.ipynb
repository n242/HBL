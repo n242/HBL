{
 "cells": [
  {
   "cell_type": "code",
   "execution_count": 8,
   "metadata": {},
   "outputs": [
    {
     "name": "stdout",
     "output_type": "stream",
     "text": [
      "Audio cleaned and saved as: /media/faisal/RE_AS/REASEARCHASSISTANT/RECORDS/record1/1_STORY_BOTH_edited.wav\n"
     ]
    }
   ],
   "source": [
    "from pydub import AudioSegment\n",
    "from pydub.playback import play\n",
    "import noisereduce as nr\n",
    "import numpy as np\n",
    "\n",
    "def clean_audio(input_path):\n",
    "    # Load the audio file\n",
    "    audio = AudioSegment.from_wav(input_path)\n",
    "    \n",
    "    # Convert to numpy array for noise reduction\n",
    "    audio_array = np.array(audio.get_array_of_samples())\n",
    "    \n",
    "    # Perform noise reduction\n",
    "    reduced_noise = nr.reduce_noise(y=audio_array, sr=audio.frame_rate)\n",
    "    \n",
    "    # Create a new AudioSegment object from the cleaned audio\n",
    "    cleaned_audio = AudioSegment(\n",
    "        reduced_noise.tobytes(),\n",
    "        frame_rate=audio.frame_rate,\n",
    "        sample_width=reduced_noise.dtype.itemsize,\n",
    "        channels=audio.channels\n",
    "    )\n",
    "    \n",
    "    # Export the cleaned audio to a new file\n",
    "    output_path = input_path[:-4] + \"_edited.wav\"\n",
    "    cleaned_audio.export(output_path, format=\"wav\")\n",
    "    \n",
    "    print(\"Audio cleaned and saved as:\", output_path)\n",
    "path = \"/media/faisal/RE_AS/REASEARCHASSISTANT/RECORDS/record1/1_STORY_BOTH.wav\"\n",
    "clean_audio(path)\n"
   ]
  },
  {
   "cell_type": "code",
   "execution_count": 3,
   "metadata": {},
   "outputs": [],
   "source": [
    "from pydub import AudioSegment\n",
    "import os\n",
    "\n",
    "def convert_wav_to_mp3(input_path):\n",
    "    # Load the WAV file\n",
    "    audio = AudioSegment.from_wav(input_path)\n",
    "\n",
    "    # Remove the file extension from the input path\n",
    "    output_path = os.path.splitext(input_path)[0]\n",
    "\n",
    "    # Set the output path to have the .mp3 extension\n",
    "    output_path += \".mp3\"\n",
    "\n",
    "    # Export the audio as MP3\n",
    "    audio.export(output_path, format=\"mp3\")\n",
    "\n",
    "    print(\"WAV converted to MP3 and saved as:\", output_path)\n",
    "\n",
    "convert_wav_to_mp3(\"/media/faisal/RE_AS/REASEARCHASSISTANT/RECORDS/record1/1_EMOTIONS_BOTH.wav\")"
   ]
  },
  {
   "cell_type": "code",
   "execution_count": 1,
   "metadata": {},
   "outputs": [
    {
     "ename": "ModuleNotFoundError",
     "evalue": "No module named 'moviepy'",
     "output_type": "error",
     "traceback": [
      "\u001b[0;31m---------------------------------------------------------------------------\u001b[0m",
      "\u001b[0;31mModuleNotFoundError\u001b[0m                       Traceback (most recent call last)",
      "Cell \u001b[0;32mIn[1], line 1\u001b[0m\n\u001b[0;32m----> 1\u001b[0m \u001b[39mfrom\u001b[39;00m \u001b[39mmoviepy\u001b[39;00m\u001b[39m.\u001b[39;00m\u001b[39meditor\u001b[39;00m \u001b[39mimport\u001b[39;00m VideoFileClip\n\u001b[1;32m      2\u001b[0m \u001b[39mimport\u001b[39;00m \u001b[39mos\u001b[39;00m\n\u001b[1;32m      4\u001b[0m \u001b[39mdef\u001b[39;00m \u001b[39mconvert_mp4_to_wav\u001b[39m(input_path, output_path):\n\u001b[1;32m      5\u001b[0m     \u001b[39m# Load the video clip\u001b[39;00m\n",
      "\u001b[0;31mModuleNotFoundError\u001b[0m: No module named 'moviepy'"
     ]
    }
   ],
   "source": [
    "from moviepy.editor import VideoFileClip\n",
    "import os\n",
    "\n",
    "def convert_mp4_to_wav(input_path, output_path):\n",
    "    # Load the video clip\n",
    "    video = VideoFileClip(input_path)\n",
    "\n",
    "    # Extract the audio from the video clip\n",
    "    audio = video.audio\n",
    "\n",
    "    # Set the output file path\n",
    "    output_file = os.path.splitext(output_path)[0] + \".wav\"\n",
    "\n",
    "    # Write the audio to the output file\n",
    "    audio.write_audiofile(output_file, codec=\"pcm_s16le\", ffmpeg_params=[\"-ac\", \"1\"])\n",
    "\n",
    "    # Close the video and audio clips\n",
    "    video.close()\n",
    "    audio.close()\n",
    "\n",
    "    print(\"MP4 converted to WAV:\", output_file)\n",
    "\n",
    "input_path = \"/media/faisal/RE_AS/REASEARCHASSISTANT/RECORDS/record2/2_STORY_BOTH.mp4\"\n",
    "output_path = \"/media/faisal/RE_AS/REASEARCHASSISTANT/RECORDS/record2/2_STORY_BOTH.wav\"\n",
    "convert_mp4_to_wav(input_path, output_path)\n"
   ]
  },
  {
   "cell_type": "code",
   "execution_count": 18,
   "metadata": {},
   "outputs": [
    {
     "name": "stdout",
     "output_type": "stream",
     "text": [
      "Audio cleaned and saved as: /media/faisal/RE_AS/REASEARCHASSISTANT/RECORDS/record1/1_STORY_BOTH_cleaned.wav\n"
     ]
    }
   ],
   "source": [
    "import soundfile as sf\n",
    "import noisereduce as nr\n",
    "\n",
    "def clean_audio(input_path, output_path, prop_decrease=0.9):\n",
    "    # Read the audio file\n",
    "    audio, sample_rate = sf.read(input_path, dtype='float32')\n",
    "\n",
    "    # Perform noise reduction\n",
    "    reduced_noise = nr.reduce_noise(y=audio, sr=sample_rate, prop_decrease=prop_decrease)\n",
    "\n",
    "    # Save the cleaned audio to a new file\n",
    "    sf.write(output_path, reduced_noise, sample_rate)\n",
    "\n",
    "    print(\"Audio cleaned and saved as:\", output_path)\n",
    "\n",
    "input_path = \"/media/faisal/RE_AS/REASEARCHASSISTANT/RECORDS/record1/1_STORY_BOTH.wav\"\n",
    "output_path = \"/media/faisal/RE_AS/REASEARCHASSISTANT/RECORDS/record1/1_STORY_BOTH_cleaned.wav\"\n",
    "\n",
    "clean_audio(input_path, output_path)\n"
   ]
  },
  {
   "cell_type": "code",
   "execution_count": 20,
   "metadata": {},
   "outputs": [
    {
     "name": "stdout",
     "output_type": "stream",
     "text": [
      "Audio converted to stereo and saved as: /media/faisal/RE_AS/REASEARCHASSISTANT/RECORDS/record1/1_STORY_BOTH_stereo.wav\n"
     ]
    }
   ],
   "source": [
    "from pydub import AudioSegment\n",
    "\n",
    "def convert_to_stereo(input_path, output_path):\n",
    "    # Load the mono audio file\n",
    "    mono_audio = AudioSegment.from_wav(input_path)\n",
    "\n",
    "    # Convert to stereo by duplicating the mono channel\n",
    "    stereo_audio = mono_audio.set_channels(2)\n",
    "\n",
    "    # Export the stereo audio to a new file\n",
    "    stereo_audio.export(output_path, format=\"wav\")\n",
    "\n",
    "    print(\"Audio converted to stereo and saved as:\", output_path)\n",
    "\n",
    "\n",
    "input_path = \"/media/faisal/RE_AS/REASEARCHASSISTANT/RECORDS/record1/1_STORY_BOTH.wav\"\n",
    "output_path = \"/media/faisal/RE_AS/REASEARCHASSISTANT/RECORDS/record1/1_STORY_BOTH_stereo.wav\"\n",
    "convert_to_stereo(input_path, output_path)"
   ]
  }
 ],
 "metadata": {
  "kernelspec": {
   "display_name": "base",
   "language": "python",
   "name": "python3"
  },
  "language_info": {
   "codemirror_mode": {
    "name": "ipython",
    "version": 3
   },
   "file_extension": ".py",
   "mimetype": "text/x-python",
   "name": "python",
   "nbconvert_exporter": "python",
   "pygments_lexer": "ipython3",
   "version": "3.10.9"
  },
  "orig_nbformat": 4
 },
 "nbformat": 4,
 "nbformat_minor": 2
}

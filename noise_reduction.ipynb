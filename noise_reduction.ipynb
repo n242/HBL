{
 "cells": [
  {
   "cell_type": "code",
   "execution_count": 5,
   "metadata": {},
   "outputs": [
    {
     "name": "stderr",
     "output_type": "stream",
     "text": [
      "/home/faisal/anaconda3/lib/python3.10/site-packages/tqdm/auto.py:21: TqdmWarning: IProgress not found. Please update jupyter and ipywidgets. See https://ipywidgets.readthedocs.io/en/stable/user_install.html\n",
      "  from .autonotebook import tqdm as notebook_tqdm\n"
     ]
    }
   ],
   "source": [
    "from pydub import AudioSegment\n",
    "from pydub.playback import play\n",
    "import noisereduce as nr\n",
    "import numpy as np\n",
    "\n",
    "def clean_audio(input_path):\n",
    "    # Load the audio file\n",
    "    audio = AudioSegment.from_wav(input_path)\n",
    "    \n",
    "    # Convert to numpy array for noise reduction\n",
    "    audio_array = np.array(audio.get_array_of_samples())\n",
    "    \n",
    "    # Perform noise reduction\n",
    "    reduced_noise = nr.reduce_noise(y=audio_array, sr=audio.frame_rate)\n",
    "    \n",
    "    # Create a new AudioSegment object from the cleaned audio\n",
    "    cleaned_audio = AudioSegment(\n",
    "        reduced_noise.tobytes(),\n",
    "        frame_rate=audio.frame_rate,\n",
    "        sample_width=reduced_noise.dtype.itemsize,\n",
    "        channels=audio.channels\n",
    "    )\n",
    "    \n",
    "    # Export the cleaned audio to a new file\n",
    "    output_path = input_path[:-4] + \"_edited.wav\"\n",
    "    cleaned_audio.export(output_path, format=\"wav\")\n",
    "    \n",
    "    print(\"Audio cleaned and saved as:\", output_path)"
   ]
  },
  {
   "cell_type": "code",
   "execution_count": 6,
   "metadata": {},
   "outputs": [
    {
     "ename": "",
     "evalue": "",
     "output_type": "error",
     "traceback": [
      "\u001b[1;31mCannot execute code, session has been disposed. Please try restarting the Kernel."
     ]
    },
    {
     "ename": "",
     "evalue": "",
     "output_type": "error",
     "traceback": [
      "\u001b[1;31mThe Kernel crashed while executing code in the the current cell or a previous cell. Please review the code in the cell(s) to identify a possible cause of the failure. Click <a href='https://aka.ms/vscodeJupyterKernelCrash'>here</a> for more info. View Jupyter <a href='command:jupyter.viewOutput'>log</a> for further details."
     ]
    }
   ],
   "source": [
    "path = \"/media/faisal/RE_AS/REASEARCHASSISTANT/RECORDS/record1/1_EMOTIONS_BOTH.wav\"\n",
    "clean_audio(\"/media/faisal/RE_AS/REASEARCHASSISTANT/RECORDS/record1/1_EMOTIONS_BOTH.wav\")"
   ]
  },
  {
   "cell_type": "code",
   "execution_count": 3,
   "metadata": {},
   "outputs": [],
   "source": [
    "from pydub import AudioSegment\n",
    "import os\n",
    "\n",
    "def convert_wav_to_mp3(input_path):\n",
    "    # Load the WAV file\n",
    "    audio = AudioSegment.from_wav(input_path)\n",
    "\n",
    "    # Remove the file extension from the input path\n",
    "    output_path = os.path.splitext(input_path)[0]\n",
    "\n",
    "    # Set the output path to have the .mp3 extension\n",
    "    output_path += \".mp3\"\n",
    "\n",
    "    # Export the audio as MP3\n",
    "    audio.export(output_path, format=\"mp3\")\n",
    "\n",
    "    print(\"WAV converted to MP3 and saved as:\", output_path)"
   ]
  },
  {
   "cell_type": "code",
   "execution_count": 4,
   "metadata": {},
   "outputs": [
    {
     "name": "stdout",
     "output_type": "stream",
     "text": [
      "WAV converted to MP3 and saved as: /media/faisal/RE_AS/REASEARCHASSISTANT/RECORDS/record1/1_EMOTIONS_BOTH.mp3\n"
     ]
    }
   ],
   "source": [
    "\n",
    "convert_wav_to_mp3(\"/media/faisal/RE_AS/REASEARCHASSISTANT/RECORDS/record1/1_EMOTIONS_BOTH.wav\")"
   ]
  }
 ],
 "metadata": {
  "kernelspec": {
   "display_name": "base",
   "language": "python",
   "name": "python3"
  },
  "language_info": {
   "codemirror_mode": {
    "name": "ipython",
    "version": 3
   },
   "file_extension": ".py",
   "mimetype": "text/x-python",
   "name": "python",
   "nbconvert_exporter": "python",
   "pygments_lexer": "ipython3",
   "version": "3.10.9"
  },
  "orig_nbformat": 4
 },
 "nbformat": 4,
 "nbformat_minor": 2
}
